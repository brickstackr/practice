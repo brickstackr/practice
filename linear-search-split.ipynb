{
 "cells": [
  {
   "cell_type": "code",
   "execution_count": 1,
   "id": "074292fc",
   "metadata": {},
   "outputs": [
    {
     "name": "stdout",
     "output_type": "stream",
     "text": [
      "Element found in Array at  5  Position with  1  Attempt\n"
     ]
    }
   ],
   "source": [
    "# Python3 program for linear search\n",
    "def search(arr, search_Element):\n",
    "    left = 0\n",
    "    length = len(arr)\n",
    "    position = -1\n",
    "    right = length - 1\n",
    " \n",
    "    # Run loop from 0 to right\n",
    "    for left in range(0, right, 1):\n",
    " \n",
    "        # If search_element is found with\n",
    "        # left variable\n",
    "        if (arr[left] == search_Element):\n",
    "            position = left\n",
    "            print(\"Element found in Array at \", position +\n",
    "                  1, \" Position with \", left + 1, \" Attempt\")\n",
    "            break\n",
    " \n",
    "        # If search_element is found with\n",
    "        # right variable\n",
    "        if (arr[right] == search_Element):\n",
    "            position = right\n",
    "            print(\"Element found in Array at \", position + 1,\n",
    "                  \" Position with \", length - right, \" Attempt\")\n",
    "            break\n",
    "        left += 1\n",
    "        right -= 1\n",
    " \n",
    "    # If element not found\n",
    "    if (position == -1):\n",
    "        print(\"Not found in Array with \", left, \" Attempt\")\n",
    " \n",
    "# Driver code\n",
    "arr = [1, 2, 3, 4, 5]\n",
    "search_element = 5\n",
    " \n",
    "# Function call\n",
    "search(arr, search_element)"
   ]
  },
  {
   "cell_type": "code",
   "execution_count": null,
   "id": "8b9a8021",
   "metadata": {},
   "outputs": [],
   "source": []
  }
 ],
 "metadata": {
  "kernelspec": {
   "display_name": "Python 3 (ipykernel)",
   "language": "python",
   "name": "python3"
  },
  "language_info": {
   "codemirror_mode": {
    "name": "ipython",
    "version": 3
   },
   "file_extension": ".py",
   "mimetype": "text/x-python",
   "name": "python",
   "nbconvert_exporter": "python",
   "pygments_lexer": "ipython3",
   "version": "3.8.12"
  }
 },
 "nbformat": 4,
 "nbformat_minor": 5
}
