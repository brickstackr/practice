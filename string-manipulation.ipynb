{
 "cells": [
  {
   "cell_type": "code",
   "execution_count": 6,
   "id": "dac0e1e5",
   "metadata": {},
   "outputs": [],
   "source": [
    "# Given a String S, reverse the string without reversing its individual words. Words are separated by dots.\n",
    "class Solution:\n",
    "    \n",
    "    #Function to reverse words in a given string.\n",
    "    def reverseWords(S):\n",
    "       return '.'.join(S.split('.')[-1::-1])"
   ]
  },
  {
   "cell_type": "code",
   "execution_count": 8,
   "id": "a227a10c",
   "metadata": {},
   "outputs": [
    {
     "name": "stdout",
     "output_type": "stream",
     "text": [
      "you.dare.i.me.test\n"
     ]
    }
   ],
   "source": [
    "test_string = \"test.me.i.dare.you\"\n",
    "print(Solution.reverseWords(test_string))"
   ]
  },
  {
   "cell_type": "code",
   "execution_count": 9,
   "id": "e1765295",
   "metadata": {},
   "outputs": [
    {
     "name": "stdout",
     "output_type": "stream",
     "text": [
      "sc\n"
     ]
    }
   ],
   "source": [
    "#Longest common prefix\n",
    "class Solution(object):\n",
    "   def longestCommonPrefix(self, strs):\n",
    "      \"\"\"\n",
    "      :type strs: List[str]\n",
    "      :rtype: str\n",
    "      \"\"\"\n",
    "      if len(strs) == 0:\n",
    "         return \"\"\n",
    "      current = strs[0]\n",
    "      for i in range(1,len(strs)):\n",
    "         temp = \"\"\n",
    "         if len(current) == 0:\n",
    "            break\n",
    "         for j in range(len(strs[i])):\n",
    "            if j<len(current) and current[j] == strs[i][j]:\n",
    "               temp+=current[j]\n",
    "            else:\n",
    "               break\n",
    "         current = temp\n",
    "      return current\n",
    "input_list = [\"school\",\"schedule\",\"scotland\"]\n",
    "ob1 = Solution()\n",
    "print(ob1.longestCommonPrefix(input_list))"
   ]
  },
  {
   "cell_type": "code",
   "execution_count": null,
   "id": "af856526",
   "metadata": {},
   "outputs": [],
   "source": []
  }
 ],
 "metadata": {
  "kernelspec": {
   "display_name": "Python 3 (ipykernel)",
   "language": "python",
   "name": "python3"
  },
  "language_info": {
   "codemirror_mode": {
    "name": "ipython",
    "version": 3
   },
   "file_extension": ".py",
   "mimetype": "text/x-python",
   "name": "python",
   "nbconvert_exporter": "python",
   "pygments_lexer": "ipython3",
   "version": "3.8.12"
  }
 },
 "nbformat": 4,
 "nbformat_minor": 5
}
