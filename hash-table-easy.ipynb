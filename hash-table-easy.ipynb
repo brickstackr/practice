{
 "cells": [
  {
   "cell_type": "code",
   "execution_count": 3,
   "id": "bbe10a78",
   "metadata": {},
   "outputs": [
    {
     "name": "stdout",
     "output_type": "stream",
     "text": [
      "The value of key 1 is: 2\n",
      "Key 2 is not in the hash map.\n",
      "The size of hash map is: 3\n",
      "(0,0) (1,2) (pi,3.1415) are in the hash map.\n",
      "dict_keys([0, 1, 'pi'])\n",
      "The size of hash map is: 0\n"
     ]
    }
   ],
   "source": [
    "# 1. initialize a hash map\n",
    "hashmap = {0 : 0, 2 : 3}\n",
    "# 2. insert a new (key, value) pair or update the value of existed key\n",
    "hashmap[1] = 1\n",
    "hashmap[1] = 2\n",
    "# 3. get the value of a key\n",
    "print(\"The value of key 1 is: \" + str(hashmap[1]))\n",
    "# 4. delete a key\n",
    "del hashmap[2]\n",
    "# 5. check if a key is in the hash map\n",
    "if 2 not in hashmap:\n",
    "    print(\"Key 2 is not in the hash map.\")\n",
    "# 6. both key and value can have different type in a hash map\n",
    "hashmap[\"pi\"] = 3.1415\n",
    "# 7. get the size of the hash map\n",
    "print(\"The size of hash map is: \" + str(len(hashmap)))\n",
    "# 8. iterate the hash map\n",
    "for key in hashmap:\n",
    "    print(\"(\" + str(key) + \",\" + str(hashmap[key]) + \")\", end=\" \")\n",
    "print(\"are in the hash map.\")\n",
    "# 9. get all keys in hash map\n",
    "print(hashmap.keys())\n",
    "# 10. clear the hash map\n",
    "hashmap.clear();\n",
    "print(\"The size of hash map is: \" + str(len(hashmap)))"
   ]
  },
  {
   "cell_type": "code",
   "execution_count": null,
   "id": "d2c2b9f9",
   "metadata": {},
   "outputs": [],
   "source": []
  }
 ],
 "metadata": {
  "kernelspec": {
   "display_name": "Python 3 (ipykernel)",
   "language": "python",
   "name": "python3"
  },
  "language_info": {
   "codemirror_mode": {
    "name": "ipython",
    "version": 3
   },
   "file_extension": ".py",
   "mimetype": "text/x-python",
   "name": "python",
   "nbconvert_exporter": "python",
   "pygments_lexer": "ipython3",
   "version": "3.8.12"
  }
 },
 "nbformat": 4,
 "nbformat_minor": 5
}
