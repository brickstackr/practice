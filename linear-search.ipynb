{
 "cells": [
  {
   "cell_type": "code",
   "execution_count": 1,
   "id": "29ab2734",
   "metadata": {},
   "outputs": [],
   "source": [
    "# Searching an element in a list/array in python\n",
    "# can be simply done using \\'in\\' operator\n",
    "# Example:\n",
    "# if x in arr:\n",
    "#   print arr.index(x)\n",
    "  \n",
    "# If you want to implement Linear Search in python\n",
    "  \n",
    "# Linearly search x in arr[]\n",
    "# If x is present then return its location\n",
    "# else return -1\n",
    "  \n",
    "def search(arr, x):\n",
    "  \n",
    "    for i in range(len(arr)):\n",
    "  \n",
    "        if arr[i] == x:\n",
    "            return i\n",
    "  \n",
    "    return -1"
   ]
  },
  {
   "cell_type": "code",
   "execution_count": 2,
   "id": "79133c20",
   "metadata": {},
   "outputs": [
    {
     "data": {
      "text/plain": [
       "-1"
      ]
     },
     "execution_count": 2,
     "metadata": {},
     "output_type": "execute_result"
    }
   ],
   "source": [
    "array = [1,2,3,4,5]\n",
    "search(array, \"bitcoin\")"
   ]
  },
  {
   "cell_type": "code",
   "execution_count": 3,
   "id": "45b79c5a",
   "metadata": {},
   "outputs": [
    {
     "data": {
      "text/plain": [
       "1"
      ]
     },
     "execution_count": 3,
     "metadata": {},
     "output_type": "execute_result"
    }
   ],
   "source": [
    "search(array,2)"
   ]
  },
  {
   "cell_type": "code",
   "execution_count": 4,
   "id": "afe2ca7f",
   "metadata": {},
   "outputs": [],
   "source": [
    "class Solution:\n",
    "\n",
    "    def search(self,arr, n, k): \n",
    "        # code here\n",
    "        for ele in arr:\n",
    "            if k in arr:\n",
    "                return(arr.index(k)+1)\n",
    "                \n",
    "            else:\n",
    "                return -1"
   ]
  },
  {
   "cell_type": "code",
   "execution_count": null,
   "id": "28775556",
   "metadata": {},
   "outputs": [],
   "source": []
  }
 ],
 "metadata": {
  "kernelspec": {
   "display_name": "Python 3 (ipykernel)",
   "language": "python",
   "name": "python3"
  },
  "language_info": {
   "codemirror_mode": {
    "name": "ipython",
    "version": 3
   },
   "file_extension": ".py",
   "mimetype": "text/x-python",
   "name": "python",
   "nbconvert_exporter": "python",
   "pygments_lexer": "ipython3",
   "version": "3.8.12"
  }
 },
 "nbformat": 4,
 "nbformat_minor": 5
}
