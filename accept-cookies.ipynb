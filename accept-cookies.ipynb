{
 "cells": [
  {
   "cell_type": "code",
   "execution_count": 1,
   "id": "9095b6bb",
   "metadata": {},
   "outputs": [
    {
     "name": "stdout",
     "output_type": "stream",
     "text": [
      "Accept cookies?\n",
      "Accepting cookies\n",
      "You have agreed to accept all cookies\n",
      "Clearing history\n",
      "History Cleared\n"
     ]
    }
   ],
   "source": [
    "# making my own\n",
    "\n",
    "class Cookie: \n",
    "    \n",
    "    # initializing \n",
    "    def __init__(self):\n",
    "        print('You have agreed to accept all cookies')\n",
    "        \n",
    "    #calling destructor\n",
    "    def __del__(self):\n",
    "        print('History cleared')\n",
    "        \n",
    "def Create_Cookie():\n",
    "    print('Accepting cookies')\n",
    "    obj = Cookie()\n",
    "    print('Clearing history')\n",
    "    return obj\n",
    "\n",
    "print('Accept cookies?')\n",
    "obj = Create_Cookie()\n",
    "print('History Cleared')"
   ]
  },
  {
   "cell_type": "code",
   "execution_count": null,
   "id": "2234ad77",
   "metadata": {},
   "outputs": [],
   "source": []
  }
 ],
 "metadata": {
  "kernelspec": {
   "display_name": "Python 3 (ipykernel)",
   "language": "python",
   "name": "python3"
  },
  "language_info": {
   "codemirror_mode": {
    "name": "ipython",
    "version": 3
   },
   "file_extension": ".py",
   "mimetype": "text/x-python",
   "name": "python",
   "nbconvert_exporter": "python",
   "pygments_lexer": "ipython3",
   "version": "3.8.12"
  }
 },
 "nbformat": 4,
 "nbformat_minor": 5
}
