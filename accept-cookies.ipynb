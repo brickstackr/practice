{
 "cells": [
  {
   "cell_type": "code",
   "execution_count": 16,
   "id": "9095b6bb",
   "metadata": {},
   "outputs": [
    {
     "name": "stdout",
     "output_type": "stream",
     "text": [
      "Accept cookies?\n",
      "Accepting cookies\n",
      "You have agreed to accept all cookies\n",
      "Clearing history\n",
      "History Cleared\n"
     ]
    }
   ],
   "source": [
    "# making my own\n",
    "\n",
    "class Cookie: \n",
    "    \n",
    "    # initializing \n",
    "    def __init__(self):\n",
    "        print('You have agreed to accept all cookies')\n",
    "        \n",
    "    #calling destructor\n",
    "    def __del__(self):\n",
    "        print('History cleared')\n",
    "        \n",
    "def Create_Cookie():\n",
    "    print('Accepting cookies')\n",
    "    obj = Cookie()\n",
    "    print('Clearing history')\n",
    "    return obj\n",
    "\n",
    "print('Accept cookies?')\n",
    "obj = Create_Cookie()\n",
    "print('History Cleared')"
   ]
  },
  {
   "cell_type": "code",
   "execution_count": 17,
   "id": "2234ad77",
   "metadata": {},
   "outputs": [],
   "source": [
    "# twitter\n",
    "\n",
    "class Tweet: \n",
    "    #initializig\n",
    "    def __init(self, message):\n",
    "        self.x = message\n",
    "\n",
    "a = Tweet()\n",
    "a.x = \"Bitcoin!\""
   ]
  },
  {
   "cell_type": "code",
   "execution_count": 18,
   "id": "9b69d956",
   "metadata": {},
   "outputs": [],
   "source": [
    "def PostTweet(Tweet):\n",
    "    print(Tweet.x)"
   ]
  },
  {
   "cell_type": "code",
   "execution_count": 19,
   "id": "b5215fb3",
   "metadata": {},
   "outputs": [
    {
     "name": "stdout",
     "output_type": "stream",
     "text": [
      "Bitcoin!\n"
     ]
    }
   ],
   "source": [
    "PostTweet(a)"
   ]
  },
  {
   "cell_type": "code",
   "execution_count": 20,
   "id": "cf81271b",
   "metadata": {},
   "outputs": [],
   "source": [
    "b = Tweet()\n",
    "b.x = \"Fuck Bitcoin!\""
   ]
  },
  {
   "cell_type": "code",
   "execution_count": 21,
   "id": "28cfbe0a",
   "metadata": {},
   "outputs": [
    {
     "name": "stdout",
     "output_type": "stream",
     "text": [
      "Fuck Bitcoin!\n"
     ]
    }
   ],
   "source": [
    "PostTweet(b)"
   ]
  },
  {
   "cell_type": "code",
   "execution_count": 22,
   "id": "6280e79d",
   "metadata": {},
   "outputs": [
    {
     "name": "stdout",
     "output_type": "stream",
     "text": [
      "Accepting cookies\n",
      "You have agreed to accept all cookies\n",
      "Clearing history\n"
     ]
    }
   ],
   "source": [
    "obj2 = Create_Cookie()"
   ]
  },
  {
   "cell_type": "code",
   "execution_count": null,
   "id": "08f14c86",
   "metadata": {},
   "outputs": [],
   "source": []
  }
 ],
 "metadata": {
  "kernelspec": {
   "display_name": "Python 3 (ipykernel)",
   "language": "python",
   "name": "python3"
  },
  "language_info": {
   "codemirror_mode": {
    "name": "ipython",
    "version": 3
   },
   "file_extension": ".py",
   "mimetype": "text/x-python",
   "name": "python",
   "nbconvert_exporter": "python",
   "pygments_lexer": "ipython3",
   "version": "3.8.12"
  }
 },
 "nbformat": 4,
 "nbformat_minor": 5
}
