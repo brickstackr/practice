{
 "cells": [
  {
   "cell_type": "code",
   "execution_count": 1,
   "id": "a5ee7b14",
   "metadata": {},
   "outputs": [
    {
     "name": "stdout",
     "output_type": "stream",
     "text": [
      "Calling Create_obj() function...\n",
      "Making Object...\n",
      "Employee created\n",
      "function end...\n",
      "Program End...\n"
     ]
    }
   ],
   "source": [
    "# Python program to illustrate destructor\n",
    " \n",
    "class Employee:\n",
    " \n",
    "    # Initializing\n",
    "    def __init__(self):\n",
    "        print('Employee created')\n",
    " \n",
    "    # Calling destructor\n",
    "    def __del__(self):\n",
    "        print(\"Destructor called\")\n",
    " \n",
    "def Create_obj():\n",
    "    print('Making Object...')\n",
    "    obj = Employee()\n",
    "    print('function end...')\n",
    "    return obj\n",
    " \n",
    "print('Calling Create_obj() function...')\n",
    "obj = Create_obj()\n",
    "print('Program End...')"
   ]
  },
  {
   "cell_type": "code",
   "execution_count": 3,
   "id": "4a5c58c7",
   "metadata": {},
   "outputs": [
    {
     "name": "stdout",
     "output_type": "stream",
     "text": [
      "Accept cookies?\n",
      "Accepting cookies\n",
      "You have agreed to accept all cookies\n",
      "Clearing history\n",
      "Destructor called\n",
      "History Cleared\n"
     ]
    }
   ],
   "source": [
    "# making my own\n",
    "\n",
    "class Cookie: \n",
    "    \n",
    "    # initializing \n",
    "    def __init__(self):\n",
    "        print('You have agreed to accept all cookies')\n",
    "        \n",
    "    #calling destructor\n",
    "    def __del__(self):\n",
    "        print('History cleared')\n",
    "        \n",
    "def Create_Cookie():\n",
    "    print('Accepting cookies')\n",
    "    obj = Cookie()\n",
    "    print('Clearing history')\n",
    "    return obj\n",
    "\n",
    "print('Accept cookies?')\n",
    "obj = Create_Cookie()\n",
    "print('History Cleared')"
   ]
  },
  {
   "cell_type": "code",
   "execution_count": null,
   "id": "838a845f",
   "metadata": {},
   "outputs": [],
   "source": []
  }
 ],
 "metadata": {
  "kernelspec": {
   "display_name": "Python 3 (ipykernel)",
   "language": "python",
   "name": "python3"
  },
  "language_info": {
   "codemirror_mode": {
    "name": "ipython",
    "version": 3
   },
   "file_extension": ".py",
   "mimetype": "text/x-python",
   "name": "python",
   "nbconvert_exporter": "python",
   "pygments_lexer": "ipython3",
   "version": "3.8.12"
  }
 },
 "nbformat": 4,
 "nbformat_minor": 5
}
