{
 "cells": [
  {
   "cell_type": "code",
   "execution_count": 4,
   "id": "c82d87e6",
   "metadata": {},
   "outputs": [],
   "source": [
    "# 1. initialize a hash map\n",
    "hashmap = {0 : \"Hannah\", 1 : \"Bill\", 2 : \"Alex\", 3: \"Jacob\"}"
   ]
  },
  {
   "cell_type": "code",
   "execution_count": 5,
   "id": "649c2493",
   "metadata": {},
   "outputs": [],
   "source": [
    "# 2. insert a new (key, value) pair or update the value of existed key\n",
    "hashmap[1] = \"William\"\n",
    "hashmap[2] = \"Jake\""
   ]
  },
  {
   "cell_type": "code",
   "execution_count": 6,
   "id": "0d3c7478",
   "metadata": {},
   "outputs": [
    {
     "name": "stdout",
     "output_type": "stream",
     "text": [
      "The value of key 1 is: William\n"
     ]
    }
   ],
   "source": [
    "# 3. get the value of a key\n",
    "print(\"The value of key 1 is: \" + str(hashmap[1]))"
   ]
  },
  {
   "cell_type": "code",
   "execution_count": 7,
   "id": "e144a1c4",
   "metadata": {},
   "outputs": [],
   "source": [
    "# 4. delete a key\n",
    "del hashmap[2]"
   ]
  },
  {
   "cell_type": "code",
   "execution_count": 8,
   "id": "27dc54f2",
   "metadata": {},
   "outputs": [
    {
     "name": "stdout",
     "output_type": "stream",
     "text": [
      "Key 2 is not in the hash map.\n"
     ]
    }
   ],
   "source": [
    "# 5. check if a key is in the hash map\n",
    "if 2 not in hashmap:\n",
    "    print(\"Key 2 is not in the hash map.\")"
   ]
  },
  {
   "cell_type": "code",
   "execution_count": 9,
   "id": "15979772",
   "metadata": {},
   "outputs": [],
   "source": [
    "# 6. both key and value can have different type in a hash map\n",
    "hashmap[\"pi\"] = 3.1415"
   ]
  },
  {
   "cell_type": "code",
   "execution_count": 10,
   "id": "a323aad6",
   "metadata": {},
   "outputs": [
    {
     "name": "stdout",
     "output_type": "stream",
     "text": [
      "The size of hash map is: 4\n"
     ]
    }
   ],
   "source": [
    "# 7. get the size of the hash map\n",
    "print(\"The size of hash map is: \" + str(len(hashmap)))"
   ]
  },
  {
   "cell_type": "code",
   "execution_count": 13,
   "id": "66c01901",
   "metadata": {},
   "outputs": [
    {
     "name": "stdout",
     "output_type": "stream",
     "text": [
      "(0,Hannah) (1,William) (3,Jacob) (pi,3.1415) are in the hash map\n"
     ]
    }
   ],
   "source": [
    "# 8. iterate the hash map\n",
    "for key in hashmap:\n",
    "    print(\"(\" + str(key) + \",\" + str(hashmap[key]) + \")\", end=\" \")\n",
    "print(\"are in the hash map\")"
   ]
  },
  {
   "cell_type": "code",
   "execution_count": 14,
   "id": "bfcdbbba",
   "metadata": {},
   "outputs": [
    {
     "name": "stdout",
     "output_type": "stream",
     "text": [
      "dict_keys([0, 1, 3, 'pi'])\n"
     ]
    }
   ],
   "source": [
    "# 9. get all keys in hash map\n",
    "print(hashmap.keys())"
   ]
  },
  {
   "cell_type": "code",
   "execution_count": 15,
   "id": "4755c8c1",
   "metadata": {},
   "outputs": [
    {
     "name": "stdout",
     "output_type": "stream",
     "text": [
      "The size of hash map is: 0\n"
     ]
    }
   ],
   "source": [
    "# 10. clear the hash map\n",
    "hashmap.clear();\n",
    "print(\"The size of hash map is: \" + str(len(hashmap)))"
   ]
  },
  {
   "cell_type": "code",
   "execution_count": null,
   "id": "b3638ac7",
   "metadata": {},
   "outputs": [],
   "source": []
  }
 ],
 "metadata": {
  "kernelspec": {
   "display_name": "Python 3 (ipykernel)",
   "language": "python",
   "name": "python3"
  },
  "language_info": {
   "codemirror_mode": {
    "name": "ipython",
    "version": 3
   },
   "file_extension": ".py",
   "mimetype": "text/x-python",
   "name": "python",
   "nbconvert_exporter": "python",
   "pygments_lexer": "ipython3",
   "version": "3.8.12"
  }
 },
 "nbformat": 4,
 "nbformat_minor": 5
}
