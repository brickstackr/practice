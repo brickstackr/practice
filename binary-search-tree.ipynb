{
 "cells": [
  {
   "cell_type": "code",
   "execution_count": 2,
   "id": "65c21104",
   "metadata": {},
   "outputs": [],
   "source": [
    "# Given a Binary Search Tree and a node value X, find if the node with value X is present in the BST or not.\n",
    "# https://practice.geeksforgeeks.org/problems/search-a-node-in-bst/1/"
   ]
  },
  {
   "cell_type": "code",
   "execution_count": 3,
   "id": "04c23754",
   "metadata": {},
   "outputs": [],
   "source": [
    "class BST:\n",
    "    \n",
    "    #Function to search a node in BST.\n",
    "    def search(self, node, x):\n",
    "        #code here\n",
    "        while node is not None:\n",
    "            if node.data==x:\n",
    "                return 1\n",
    "            elif node.data >x:\n",
    "                node=node.left\n",
    "            else: \n",
    "                node=node.right\n",
    "        return 0"
   ]
  },
  {
   "cell_type": "code",
   "execution_count": 4,
   "id": "432c6010",
   "metadata": {},
   "outputs": [],
   "source": [
    "#More complicated\n",
    "# Definition for a binary tree node.\n",
    "# https://leetcode.com/problems/binary-tree-preorder-traversal/solution/\n",
    "class TreeNode:\n",
    "     def __init__(self, val=0, left=None, right=None):\n",
    "         self.val = val\n",
    "         self.left = left\n",
    "         self.right = right\n",
    "class Solution(object):\n",
    "    def preorderTraversal(self, root):\n",
    "        \"\"\"\n",
    "        :type root: TreeNode\n",
    "        :rtype: List[int]\n",
    "        \"\"\"\n",
    "        if root is None:\n",
    "            return []\n",
    "        \n",
    "        stack, output = [root, ], []\n",
    "        \n",
    "        while stack:\n",
    "            root = stack.pop()\n",
    "            if root is not None:\n",
    "                output.append(root.val)\n",
    "                if root.right is not None:\n",
    "                    stack.append(root.right)\n",
    "                if root.left is not None:\n",
    "                    stack.append(root.left)\n",
    "        \n",
    "        return output"
   ]
  },
  {
   "cell_type": "code",
   "execution_count": 5,
   "id": "4193a183",
   "metadata": {},
   "outputs": [],
   "source": [
    "# Morris version\n",
    "class Solution(object):\n",
    "    def preorderTraversal(self, root):\n",
    "        \"\"\"\n",
    "        :type root: TreeNode\n",
    "        :rtype: List[int]\n",
    "        \"\"\"\n",
    "        node, output = root, []\n",
    "        while node:  \n",
    "            if not node.left: \n",
    "                output.append(node.val)\n",
    "                node = node.right \n",
    "            else: \n",
    "                predecessor = node.left \n",
    "\n",
    "                while predecessor.right and predecessor.right is not node: \n",
    "                    predecessor = predecessor.right \n",
    "\n",
    "                if not predecessor.right:\n",
    "                    output.append(node.val)\n",
    "                    predecessor.right = node  \n",
    "                    node = node.left  \n",
    "                else:\n",
    "                    predecessor.right = None\n",
    "                    node = node.right         \n",
    "\n",
    "        return output"
   ]
  },
  {
   "cell_type": "code",
   "execution_count": null,
   "id": "8cde9292",
   "metadata": {},
   "outputs": [],
   "source": []
  }
 ],
 "metadata": {
  "kernelspec": {
   "display_name": "Python 3 (ipykernel)",
   "language": "python",
   "name": "python3"
  },
  "language_info": {
   "codemirror_mode": {
    "name": "ipython",
    "version": 3
   },
   "file_extension": ".py",
   "mimetype": "text/x-python",
   "name": "python",
   "nbconvert_exporter": "python",
   "pygments_lexer": "ipython3",
   "version": "3.8.12"
  }
 },
 "nbformat": 4,
 "nbformat_minor": 5
}
