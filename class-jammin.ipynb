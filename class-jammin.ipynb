{
 "cells": [
  {
   "cell_type": "code",
   "execution_count": 1,
   "id": "5bbffeb1",
   "metadata": {},
   "outputs": [
    {
     "name": "stdout",
     "output_type": "stream",
     "text": [
      "Harsh\n",
      "True\n",
      "152\n"
     ]
    }
   ],
   "source": [
    "# Python code for accessing attributes of class \n",
    "class emp: \n",
    "    name='Harsh'\n",
    "    salary='25000'\n",
    "    def show(self): \n",
    "        print (self.name) \n",
    "        print (self.salary) \n",
    "e1 = emp() \n",
    "# Use getattr instead of e1.name \n",
    "print (getattr(e1,'name')) \n",
    "  \n",
    "# returns true if object has attribute \n",
    "print (hasattr(e1,'name')) \n",
    "  \n",
    "# sets an attribute \n",
    "setattr(e1,'height',152) \n",
    "  \n",
    "# returns the value of attribute name height \n",
    "print (getattr(e1,'height')) \n",
    "  \n",
    "# delete the attribute \n",
    "delattr(emp,'salary') "
   ]
  },
  {
   "cell_type": "code",
   "execution_count": 2,
   "id": "7c9f9186",
   "metadata": {},
   "outputs": [
    {
     "data": {
      "text/plain": [
       "314.159"
      ]
     },
     "execution_count": 2,
     "metadata": {},
     "output_type": "execute_result"
    }
   ],
   "source": [
    "class Circle(object):\n",
    "    pi = 3.14159\n",
    "\n",
    "    def __init__(self, radius):\n",
    "        self.radius = radius\n",
    "\n",
    "    def area(self):\n",
    "        return Circle.pi * self.radius * self.radius\n",
    "\n",
    "Circle.pi\n",
    "## 3.14159\n",
    "\n",
    "c = Circle(10)\n",
    "c.pi\n",
    "## 3.14159\n",
    "c.area()\n",
    "## 314.159"
   ]
  },
  {
   "cell_type": "code",
   "execution_count": null,
   "id": "c79ea92a",
   "metadata": {},
   "outputs": [],
   "source": []
  }
 ],
 "metadata": {
  "kernelspec": {
   "display_name": "Python 3 (ipykernel)",
   "language": "python",
   "name": "python3"
  },
  "language_info": {
   "codemirror_mode": {
    "name": "ipython",
    "version": 3
   },
   "file_extension": ".py",
   "mimetype": "text/x-python",
   "name": "python",
   "nbconvert_exporter": "python",
   "pygments_lexer": "ipython3",
   "version": "3.8.12"
  }
 },
 "nbformat": 4,
 "nbformat_minor": 5
}
